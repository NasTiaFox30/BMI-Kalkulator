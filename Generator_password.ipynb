{
  "nbformat": 4,
  "nbformat_minor": 0,
  "metadata": {
    "colab": {
      "provenance": [],
      "authorship_tag": "ABX9TyPhPvbAsdi66ivwo5voRGoU",
      "include_colab_link": true
    },
    "kernelspec": {
      "name": "python3",
      "display_name": "Python 3"
    },
    "language_info": {
      "name": "python"
    }
  },
  "cells": [
    {
      "cell_type": "markdown",
      "metadata": {
        "id": "view-in-github",
        "colab_type": "text"
      },
      "source": [
        "<a href=\"https://colab.research.google.com/github/NasTiaFox30/BMI-Kalkulator/blob/main/Generator_password.ipynb\" target=\"_parent\"><img src=\"https://colab.research.google.com/assets/colab-badge.svg\" alt=\"Open In Colab\"/></a>"
      ]
    },
    {
      "cell_type": "markdown",
      "source": [
        "#**🔐 Generator haseł administracyjnych**\n",
        "\n",
        "---\n",
        "\n"
      ],
      "metadata": {
        "id": "IbJgsnrkGgD2"
      }
    },
    {
      "cell_type": "markdown",
      "source": [
        "**Zakres:** Operatory na stringach, liczbach, instrukcje warunkowe, pętle, listy\n",
        "\n",
        "**Scenariusz:**\n",
        "\n",
        "Tworzysz skrypt do generowania haseł dla kont administracyjnych na uczelni.\n",
        "\n",
        "**Skrypt powinien:**\n",
        "\n",
        "1. Przyjąć liczbę haseł do wygenerowania (od użytkownika).\n",
        "2. Dla każdego hasła:\n",
        " * zawierać min. 1 cyfrę, 1 dużą literę, 1 małą literę, 1 znak specjalny (!@#$%^&*)\n",
        " * mieć długość co najmniej 10 znaków\n",
        " * być unikalne\n",
        "3. Wydrukować wszystkie hasła oraz podsumowanie:\n",
        " * ile haseł spełniło kryteria\n",
        " * ile zostało odrzuconych (np. z powodu braku różnorodności znaków)"
      ],
      "metadata": {
        "id": "il5JiVKizuyC"
      }
    },
    {
      "cell_type": "code",
      "source": [
        "# Generator haseł administracyjnych\n",
        "import random\n",
        "# Zbiory znaków\n",
        "male_litery = \"abcdefghijklmnopqrstuvwxyz\"\n",
        "duze_litery = \"ABCDEFGHIJKLMNOPQRSTUVWXYZ\"\n",
        "znaki_specjalne = \"!@#$%^&*\"\n",
        "cyfry = \"0123456789\"\n",
        "\n",
        "hasło = \" \"\n",
        "\n",
        "# Random akcja\n",
        "def random_action(argument):\n",
        "    switcher = {\n",
        "        0: random_mała_litera(),\n",
        "        1: random_duża_litera(),\n",
        "        2: random_znak_specjalny(),\n",
        "        3: random_cyfra(),\n",
        "    }\n",
        "\n",
        "    return switcher.get(argument)\n",
        "\n",
        "def random_mała_litera():\n",
        "  return random.choice(male_litery)\n",
        "def random_duża_litera():\n",
        "  return random.choice(duze_litery)\n",
        "def random_znak_specjalny():\n",
        "  return random.choice(znaki_specjalne)\n",
        "def random_cyfra():\n",
        "  return random.choice(cyfry)\n",
        "\n",
        "# Wyświetlanie hasła\n",
        "def wyswietlaniehasla():\n",
        " print(hasło)\n",
        "\n",
        "# random.choice(male_litery)\n",
        "# random.choice(duze_litery)\n",
        "# random.choice(znaki_specjalne)\n",
        "# random.choice(cyfry)\n",
        "\n",
        "\n",
        "# Program:\n",
        "\n",
        "# //Random dlugość hasła\n",
        "długość_hasła = random.randint(10, 20)\n",
        "\n",
        "for i in range(długość_hasła):\n",
        "  # Generujemy randomową akcję\n",
        "  hasło = hasło + random_action(random.randint(0, 3))\n",
        "\n",
        "wyswietlaniehasla()\n",
        "\n"
      ],
      "metadata": {
        "id": "WgVaFa36zuGj",
        "colab": {
          "base_uri": "https://localhost:8080/"
        },
        "outputId": "4432422e-cefd-4656-9c49-ef3bae0fa829"
      },
      "execution_count": null,
      "outputs": [
        {
          "output_type": "stream",
          "name": "stdout",
          "text": [
            " G04X!TLU%u7F9^53T119\n"
          ]
        }
      ]
    }
  ]
}